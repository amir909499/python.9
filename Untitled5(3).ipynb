{
 "cells": [
  {
   "cell_type": "code",
   "execution_count": 2,
   "id": "43ad685b-3495-4cb5-896e-20090b472d22",
   "metadata": {},
   "outputs": [
    {
     "name": "stdout",
     "output_type": "stream",
     "text": [
      "{'a': 4, ',': 2, 'b': 4}\n"
     ]
    }
   ],
   "source": [
    "a='aa,bb,abba'\n",
    "b={}\n",
    "for i in a:\n",
    "    if i not in b:\n",
    "        b[i]=1\n",
    "    else:\n",
    "        b[i]+=1\n",
    "\n",
    "print(b)"
   ]
  },
  {
   "cell_type": "code",
   "execution_count": null,
   "id": "6c768292-2800-4350-a9c9-d9a2bd1c531f",
   "metadata": {},
   "outputs": [],
   "source": []
  }
 ],
 "metadata": {
  "kernelspec": {
   "display_name": "Python 3 (ipykernel)",
   "language": "python",
   "name": "python3"
  },
  "language_info": {
   "codemirror_mode": {
    "name": "ipython",
    "version": 3
   },
   "file_extension": ".py",
   "mimetype": "text/x-python",
   "name": "python",
   "nbconvert_exporter": "python",
   "pygments_lexer": "ipython3",
   "version": "3.8.1"
  }
 },
 "nbformat": 4,
 "nbformat_minor": 5
}
