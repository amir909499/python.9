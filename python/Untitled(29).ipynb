{
 "cells": [
  {
   "cell_type": "code",
   "execution_count": 20,
   "id": "10f2f38a-9d2c-4fff-a2d1-dc55f86e71fe",
   "metadata": {},
   "outputs": [
    {
     "name": "stdout",
     "output_type": "stream",
     "text": [
      "amir\n",
      "raf\n"
     ]
    }
   ],
   "source": [
    "a=[\"amir\",\"raf\",19]\n",
    "for i in a:\n",
    "    print (i)\n",
    "    if i==\"raf\":\n",
    "        break\n",
    "    \n",
    "    "
   ]
  },
  {
   "cell_type": "code",
   "execution_count": null,
   "id": "100c2003-f7ad-43af-8109-8b24544a8e0b",
   "metadata": {},
   "outputs": [],
   "source": []
  }
 ],
 "metadata": {
  "kernelspec": {
   "display_name": "Python 3 (ipykernel)",
   "language": "python",
   "name": "python3"
  },
  "language_info": {
   "codemirror_mode": {
    "name": "ipython",
    "version": 3
   },
   "file_extension": ".py",
   "mimetype": "text/x-python",
   "name": "python",
   "nbconvert_exporter": "python",
   "pygments_lexer": "ipython3",
   "version": "3.8.1"
  }
 },
 "nbformat": 4,
 "nbformat_minor": 5
}
