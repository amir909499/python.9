{
 "cells": [
  {
   "cell_type": "code",
   "execution_count": 10,
   "id": "3ef8f696-71c2-4018-b54a-d81ecc7d420e",
   "metadata": {},
   "outputs": [
    {
     "name": "stdout",
     "output_type": "stream",
     "text": [
      "a\n"
     ]
    }
   ],
   "source": [
    "a =20\n",
    "b =19\n",
    "if a>b:\n",
    "  print(\"a\")\n",
    "else:\n",
    "  print(\"b\")"
   ]
  },
  {
   "cell_type": "code",
   "execution_count": null,
   "id": "10f2f38a-9d2c-4fff-a2d1-dc55f86e71fe",
   "metadata": {},
   "outputs": [],
   "source": []
  }
 ],
 "metadata": {
  "kernelspec": {
   "display_name": "Python 3 (ipykernel)",
   "language": "python",
   "name": "python3"
  },
  "language_info": {
   "codemirror_mode": {
    "name": "ipython",
    "version": 3
   },
   "file_extension": ".py",
   "mimetype": "text/x-python",
   "name": "python",
   "nbconvert_exporter": "python",
   "pygments_lexer": "ipython3",
   "version": "3.8.1"
  }
 },
 "nbformat": 4,
 "nbformat_minor": 5
}
