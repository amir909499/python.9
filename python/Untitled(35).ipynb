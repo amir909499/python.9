{
 "cells": [
  {
   "cell_type": "code",
   "execution_count": 38,
   "id": "1be000f3-620a-4b06-b684-b59d796c4e58",
   "metadata": {},
   "outputs": [
    {
     "name": "stdout",
     "output_type": "stream",
     "text": [
      "['amir', 'blackcurrant', 'watermelon', 'raf', '19']\n"
     ]
    }
   ],
   "source": [
    "thislist = [\"amir\", \"raf\", \"19\"]\n",
    "thislist[1:1] = [\"blackcurrant\", \"watermelon\"]\n",
    "print(thislist)"
   ]
  },
  {
   "cell_type": "code",
   "execution_count": null,
   "id": "924e1642-4bbb-412c-8de3-08f820523558",
   "metadata": {},
   "outputs": [],
   "source": []
  }
 ],
 "metadata": {
  "kernelspec": {
   "display_name": "Python 3 (ipykernel)",
   "language": "python",
   "name": "python3"
  },
  "language_info": {
   "codemirror_mode": {
    "name": "ipython",
    "version": 3
   },
   "file_extension": ".py",
   "mimetype": "text/x-python",
   "name": "python",
   "nbconvert_exporter": "python",
   "pygments_lexer": "ipython3",
   "version": "3.8.1"
  }
 },
 "nbformat": 4,
 "nbformat_minor": 5
}
