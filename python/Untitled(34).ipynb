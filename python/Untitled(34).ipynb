{
 "cells": [
  {
   "cell_type": "code",
   "execution_count": 29,
   "id": "03374b00-84f6-4872-b5e3-fa00338bdc51",
   "metadata": {},
   "outputs": [],
   "source": [
    "def a(a,b,c):\n",
    "    c=(a**2)+(b**2)-(c**2)\n",
    "    return c"
   ]
  },
  {
   "cell_type": "code",
   "execution_count": 30,
   "id": "38d98780-0b93-4f65-80e0-9eb06392b8ca",
   "metadata": {},
   "outputs": [
    {
     "data": {
      "text/plain": [
       "437"
      ]
     },
     "execution_count": 30,
     "metadata": {},
     "output_type": "execute_result"
    }
   ],
   "source": [
    "a(20,19,18)"
   ]
  },
  {
   "cell_type": "code",
   "execution_count": null,
   "id": "21ff4cb0-c8b6-4858-a1b7-ca09f6fafbec",
   "metadata": {},
   "outputs": [],
   "source": []
  }
 ],
 "metadata": {
  "kernelspec": {
   "display_name": "Python 3 (ipykernel)",
   "language": "python",
   "name": "python3"
  },
  "language_info": {
   "codemirror_mode": {
    "name": "ipython",
    "version": 3
   },
   "file_extension": ".py",
   "mimetype": "text/x-python",
   "name": "python",
   "nbconvert_exporter": "python",
   "pygments_lexer": "ipython3",
   "version": "3.8.1"
  }
 },
 "nbformat": 4,
 "nbformat_minor": 5
}
