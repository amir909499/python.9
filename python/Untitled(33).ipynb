{
 "cells": [
  {
   "cell_type": "code",
   "execution_count": 25,
   "id": "03374b00-84f6-4872-b5e3-fa00338bdc51",
   "metadata": {},
   "outputs": [
    {
     "name": "stdout",
     "output_type": "stream",
     "text": [
      "2 0 2\n"
     ]
    }
   ],
   "source": [
    "a=1\n",
    "b=1\n",
    "c=1\n",
    "while (a**2+b**2)!=c**2:\n",
    "    c+=1\n",
    "    while (a**2+b**2)<c**2:\n",
    "        a+=1\n",
    "        b=a\n",
    "        while (a**2+b**2)>c**2:\n",
    "            b-=1\n",
    "\n",
    "print(a,b,c)"
   ]
  },
  {
   "cell_type": "code",
   "execution_count": null,
   "id": "38d98780-0b93-4f65-80e0-9eb06392b8ca",
   "metadata": {},
   "outputs": [],
   "source": []
  }
 ],
 "metadata": {
  "kernelspec": {
   "display_name": "Python 3 (ipykernel)",
   "language": "python",
   "name": "python3"
  },
  "language_info": {
   "codemirror_mode": {
    "name": "ipython",
    "version": 3
   },
   "file_extension": ".py",
   "mimetype": "text/x-python",
   "name": "python",
   "nbconvert_exporter": "python",
   "pygments_lexer": "ipython3",
   "version": "3.8.1"
  }
 },
 "nbformat": 4,
 "nbformat_minor": 5
}
